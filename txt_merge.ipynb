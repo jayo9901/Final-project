{
 "cells": [
  {
   "cell_type": "code",
   "execution_count": 47,
   "id": "e410d3c6",
   "metadata": {},
   "outputs": [
    {
     "data": {
      "text/plain": [
       "'KsponSpeech_0004'"
      ]
     },
     "execution_count": 47,
     "metadata": {},
     "output_type": "execute_result"
    }
   ],
   "source": [
    "import time\n",
    "import os\n",
    "\n",
    "\n",
    "# 텍스트 파일이 모여있는 폴더\n",
    "directory = \"..\\Jaeyoon\\face\\voice\\voic\\KsponSpeech_01\\KsponSpeech_0004\"\n",
    "\n",
    "# 결과 파일명 지정\n",
    "basename = os.path.basename(directory)\n",
    "outfile_name = basename+\".txt\"\n",
    "basename\n",
    "\n",
    "# # 결과 파일 생성\n",
    "# out_file = open(outfile_name, 'w')\n",
    "\n",
    "# # 폴더 내용물 목록 생성\n",
    "# input_files = os.listdir(directory)\n",
    "\n",
    "# # 폴더 내용을 하나하나 읽어 하나로 합치는 반복문 \n",
    "# for filename in input_files:\n",
    "#     # 텍스트 확장자가 아닌파일 걸러내기\n",
    "#     if \".txt\" not in filename:\n",
    "#         continue\n",
    "\n",
    "#     # personal_info/파일명.txt 읽기\n",
    "#     file = open(directory + \"/\" + filename)\n",
    "\n",
    "#     # 파일 내용 문자열로 저장\n",
    "#     content = file.read()\n",
    "\n",
    "#     # 문자열로 저장된 내용을 파일에 쓰기\n",
    "#     out_file.write(content + \"\\n\\n\")\n",
    "\n",
    "#     # 읽은 파일 종료 (저장)\n",
    "#     file.close()\n",
    "\n",
    "# # 결과 파일 종료 (저장)\n",
    "# out_file.close()\n",
    "\n"
   ]
  },
  {
   "cell_type": "code",
   "execution_count": 52,
   "id": "5341d7c1",
   "metadata": {
    "scrolled": true
   },
   "outputs": [],
   "source": [
    "import os\n",
    "\n",
    "\n",
    "txt_path = '../Jaeyoon/face/voice/voic/KsponSpeech_01/'\n",
    "files = [f for f in glob.glob(txt_path + \"**/\", recursive=True)]\n",
    "del files[0]\n",
    "\n",
    "\n",
    "for directory in files:\n",
    "# 텍스트 파일이 모여있는 폴더\n",
    "# directory = \"../Jaeyoon/face/voice/voic/KsponSpeech_01/KsponSpeech_0004\"\n",
    "\n",
    "# 결과 파일명 지정\n",
    "    basename = os.path.basename(directory[:-1])\n",
    "    outfile_name = basename+\".txt\"\n",
    "\n",
    "# 결과 파일 생성\n",
    "    out_file = open(outfile_name, 'w')\n",
    "\n",
    "# 폴더 내용물 목록 생성\n",
    "    input_files = os.listdir(directory)\n",
    "\n",
    "# 폴더 내용을 하나하나 읽어 하나로 합치는 반복문 \n",
    "    for filename in input_files:\n",
    "        # 텍스트 확장자가 아닌파일 걸러내기\n",
    "        if \".txt\" not in filename:\n",
    "            continue\n",
    "\n",
    "    # personal_info/파일명.txt 읽기\n",
    "        file = open(directory + \"/\" + filename)\n",
    "\n",
    "    # 파일 내용 문자열로 저장\n",
    "        content = file.read()\n",
    "    \n",
    "    # 문자열로 저장된 내용을 파일에 쓰기\n",
    "        out_file.write(content + \"\\n\\n\")\n",
    "\n",
    "    # 읽은 파일 종료 (저장)\n",
    "        file.close()\n",
    "\n",
    "# 결과 파일 종료 (저장)\n",
    "    out_file.close()\n"
   ]
  },
  {
   "cell_type": "code",
   "execution_count": 50,
   "id": "6808842d",
   "metadata": {},
   "outputs": [
    {
     "data": {
      "text/plain": [
       "'박재'"
      ]
     },
     "execution_count": 50,
     "metadata": {},
     "output_type": "execute_result"
    }
   ],
   "source": [
    "name = '박재윤'\n",
    "name = name[:-1]\n",
    "name"
   ]
  },
  {
   "cell_type": "code",
   "execution_count": null,
   "id": "16a08316",
   "metadata": {},
   "outputs": [],
   "source": []
  }
 ],
 "metadata": {
  "kernelspec": {
   "display_name": "Python 3 (ipykernel)",
   "language": "python",
   "name": "python3"
  },
  "language_info": {
   "codemirror_mode": {
    "name": "ipython",
    "version": 3
   },
   "file_extension": ".py",
   "mimetype": "text/x-python",
   "name": "python",
   "nbconvert_exporter": "python",
   "pygments_lexer": "ipython3",
   "version": "3.9.7"
  }
 },
 "nbformat": 4,
 "nbformat_minor": 5
}
