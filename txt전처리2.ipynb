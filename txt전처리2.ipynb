{
 "cells": [
  {
   "cell_type": "code",
   "execution_count": 1,
   "id": "59a037d5",
   "metadata": {},
   "outputs": [],
   "source": [
    "import os\n",
    "import glob\n",
    "import pandas as pd\n",
    "import numpy as np\n",
    "import re"
   ]
  },
  {
   "cell_type": "code",
   "execution_count": 2,
   "id": "96d7080f",
   "metadata": {},
   "outputs": [],
   "source": [
    "# import fileinput\n",
    "\n",
    "# shebang = \"#! /usr/bin/python\\n\"\n",
    "# for line in fileinput.input(inplace=1):\n",
    "#     if fileinput.isfirstline() and line != shebang:\n",
    "#        print shebang,\n",
    "#        if not line.startswith(\"#!\"): \n",
    "#           print line,\n",
    "#     else:\n",
    "#        print line,"
   ]
  },
  {
   "cell_type": "code",
   "execution_count": 3,
   "id": "f81c438d",
   "metadata": {},
   "outputs": [
    {
     "data": {
      "text/plain": [
       "['../Jaeyoon/face/voice/voic/KsponSpeech_01\\\\KsponSpeech_0002\\\\',\n",
       " '../Jaeyoon/face/voice/voic/KsponSpeech_01\\\\KsponSpeech_0003\\\\',\n",
       " '../Jaeyoon/face/voice/voic/KsponSpeech_01\\\\KsponSpeech_0004\\\\',\n",
       " '../Jaeyoon/face/voice/voic/KsponSpeech_01\\\\KsponSpeech_0005\\\\',\n",
       " '../Jaeyoon/face/voice/voic/KsponSpeech_01\\\\KsponSpeech_0006\\\\',\n",
       " '../Jaeyoon/face/voice/voic/KsponSpeech_01\\\\KsponSpeech_0007\\\\',\n",
       " '../Jaeyoon/face/voice/voic/KsponSpeech_01\\\\KsponSpeech_0008\\\\',\n",
       " '../Jaeyoon/face/voice/voic/KsponSpeech_01\\\\KsponSpeech_0009\\\\',\n",
       " '../Jaeyoon/face/voice/voic/KsponSpeech_01\\\\KsponSpeech_0010\\\\',\n",
       " '../Jaeyoon/face/voice/voic/KsponSpeech_01\\\\KsponSpeech_0011\\\\',\n",
       " '../Jaeyoon/face/voice/voic/KsponSpeech_01\\\\KsponSpeech_0012\\\\',\n",
       " '../Jaeyoon/face/voice/voic/KsponSpeech_01\\\\KsponSpeech_0013\\\\',\n",
       " '../Jaeyoon/face/voice/voic/KsponSpeech_01\\\\KsponSpeech_0014\\\\',\n",
       " '../Jaeyoon/face/voice/voic/KsponSpeech_01\\\\KsponSpeech_0015\\\\',\n",
       " '../Jaeyoon/face/voice/voic/KsponSpeech_01\\\\KsponSpeech_0016\\\\',\n",
       " '../Jaeyoon/face/voice/voic/KsponSpeech_01\\\\KsponSpeech_0017\\\\',\n",
       " '../Jaeyoon/face/voice/voic/KsponSpeech_01\\\\KsponSpeech_0018\\\\',\n",
       " '../Jaeyoon/face/voice/voic/KsponSpeech_01\\\\KsponSpeech_0019\\\\',\n",
       " '../Jaeyoon/face/voice/voic/KsponSpeech_01\\\\KsponSpeech_0020\\\\',\n",
       " '../Jaeyoon/face/voice/voic/KsponSpeech_01\\\\KsponSpeech_0021\\\\',\n",
       " '../Jaeyoon/face/voice/voic/KsponSpeech_01\\\\KsponSpeech_0022\\\\',\n",
       " '../Jaeyoon/face/voice/voic/KsponSpeech_01\\\\KsponSpeech_0023\\\\',\n",
       " '../Jaeyoon/face/voice/voic/KsponSpeech_01\\\\KsponSpeech_0024\\\\',\n",
       " '../Jaeyoon/face/voice/voic/KsponSpeech_01\\\\KsponSpeech_0025\\\\',\n",
       " '../Jaeyoon/face/voice/voic/KsponSpeech_01\\\\KsponSpeech_0026\\\\',\n",
       " '../Jaeyoon/face/voice/voic/KsponSpeech_01\\\\KsponSpeech_0027\\\\',\n",
       " '../Jaeyoon/face/voice/voic/KsponSpeech_01\\\\KsponSpeech_0028\\\\',\n",
       " '../Jaeyoon/face/voice/voic/KsponSpeech_01\\\\KsponSpeech_0029\\\\',\n",
       " '../Jaeyoon/face/voice/voic/KsponSpeech_01\\\\KsponSpeech_0030\\\\',\n",
       " '../Jaeyoon/face/voice/voic/KsponSpeech_01\\\\KsponSpeech_0031\\\\',\n",
       " '../Jaeyoon/face/voice/voic/KsponSpeech_01\\\\KsponSpeech_0032\\\\',\n",
       " '../Jaeyoon/face/voice/voic/KsponSpeech_01\\\\KsponSpeech_0033\\\\',\n",
       " '../Jaeyoon/face/voice/voic/KsponSpeech_01\\\\KsponSpeech_0034\\\\',\n",
       " '../Jaeyoon/face/voice/voic/KsponSpeech_01\\\\KsponSpeech_0035\\\\',\n",
       " '../Jaeyoon/face/voice/voic/KsponSpeech_01\\\\KsponSpeech_0036\\\\',\n",
       " '../Jaeyoon/face/voice/voic/KsponSpeech_01\\\\KsponSpeech_0037\\\\',\n",
       " '../Jaeyoon/face/voice/voic/KsponSpeech_01\\\\KsponSpeech_0038\\\\',\n",
       " '../Jaeyoon/face/voice/voic/KsponSpeech_01\\\\KsponSpeech_0039\\\\',\n",
       " '../Jaeyoon/face/voice/voic/KsponSpeech_01\\\\KsponSpeech_0040\\\\',\n",
       " '../Jaeyoon/face/voice/voic/KsponSpeech_01\\\\KsponSpeech_0041\\\\',\n",
       " '../Jaeyoon/face/voice/voic/KsponSpeech_01\\\\KsponSpeech_0042\\\\',\n",
       " '../Jaeyoon/face/voice/voic/KsponSpeech_01\\\\KsponSpeech_0043\\\\',\n",
       " '../Jaeyoon/face/voice/voic/KsponSpeech_01\\\\KsponSpeech_0044\\\\',\n",
       " '../Jaeyoon/face/voice/voic/KsponSpeech_01\\\\KsponSpeech_0045\\\\',\n",
       " '../Jaeyoon/face/voice/voic/KsponSpeech_01\\\\KsponSpeech_0046\\\\',\n",
       " '../Jaeyoon/face/voice/voic/KsponSpeech_01\\\\KsponSpeech_0047\\\\',\n",
       " '../Jaeyoon/face/voice/voic/KsponSpeech_01\\\\KsponSpeech_0048\\\\',\n",
       " '../Jaeyoon/face/voice/voic/KsponSpeech_01\\\\KsponSpeech_0049\\\\',\n",
       " '../Jaeyoon/face/voice/voic/KsponSpeech_01\\\\KsponSpeech_0050\\\\']"
      ]
     },
     "execution_count": 3,
     "metadata": {},
     "output_type": "execute_result"
    }
   ],
   "source": [
    "path = '../Jaeyoon/face/voice/voic/KsponSpeech_01/'\n",
    "files = [f for f in glob.glob(path + \"**/\", recursive=True)]\n",
    "filename = os.listdir(path)\n",
    "files = files[1:]\n",
    "files"
   ]
  },
  {
   "cell_type": "code",
   "execution_count": 4,
   "id": "7bf44e82",
   "metadata": {},
   "outputs": [
    {
     "ename": "ValueError",
     "evalue": "Length of values (0) does not match length of index (1000)",
     "output_type": "error",
     "traceback": [
      "\u001b[1;31m---------------------------------------------------------------------------\u001b[0m",
      "\u001b[1;31mValueError\u001b[0m                                Traceback (most recent call last)",
      "\u001b[1;32m~\\AppData\\Local\\Temp\\ipykernel_9716\\2541356946.py\u001b[0m in \u001b[0;36m<module>\u001b[1;34m\u001b[0m\n\u001b[0;32m     18\u001b[0m         \u001b[0mwavname\u001b[0m\u001b[1;33m.\u001b[0m\u001b[0mappend\u001b[0m\u001b[1;33m(\u001b[0m\u001b[0mbasename\u001b[0m\u001b[1;33m)\u001b[0m\u001b[1;33m\u001b[0m\u001b[1;33m\u001b[0m\u001b[0m\n\u001b[0;32m     19\u001b[0m     \u001b[0morder_speech\u001b[0m \u001b[1;33m=\u001b[0m \u001b[0mos\u001b[0m\u001b[1;33m.\u001b[0m\u001b[0mpath\u001b[0m\u001b[1;33m.\u001b[0m\u001b[0mbasename\u001b[0m\u001b[1;33m(\u001b[0m\u001b[0mtxt_path\u001b[0m\u001b[1;33m[\u001b[0m\u001b[1;33m:\u001b[0m\u001b[1;33m-\u001b[0m\u001b[1;36m1\u001b[0m\u001b[1;33m]\u001b[0m\u001b[1;33m)\u001b[0m\u001b[1;33m\u001b[0m\u001b[1;33m\u001b[0m\u001b[0m\n\u001b[1;32m---> 20\u001b[1;33m     \u001b[0mdf\u001b[0m\u001b[1;33m[\u001b[0m\u001b[1;34m'filename'\u001b[0m\u001b[1;33m]\u001b[0m \u001b[1;33m=\u001b[0m \u001b[0mwavname\u001b[0m\u001b[1;33m\u001b[0m\u001b[1;33m\u001b[0m\u001b[0m\n\u001b[0m\u001b[0;32m     21\u001b[0m     \u001b[0mdf\u001b[0m\u001b[1;33m[\u001b[0m\u001b[1;34m'text'\u001b[0m\u001b[1;33m]\u001b[0m \u001b[1;33m=\u001b[0m \u001b[0mdf\u001b[0m\u001b[1;33m[\u001b[0m\u001b[1;34m'text'\u001b[0m\u001b[1;33m]\u001b[0m\u001b[1;33m.\u001b[0m\u001b[0mstr\u001b[0m\u001b[1;33m.\u001b[0m\u001b[0mreplace\u001b[0m\u001b[1;33m(\u001b[0m\u001b[1;34m\"[+?!]\"\u001b[0m\u001b[1;33m,\u001b[0m\u001b[1;34m\"\"\u001b[0m\u001b[1;33m,\u001b[0m\u001b[0mregex\u001b[0m\u001b[1;33m=\u001b[0m\u001b[1;32mTrue\u001b[0m\u001b[1;33m)\u001b[0m\u001b[1;33m\u001b[0m\u001b[1;33m\u001b[0m\u001b[0m\n\u001b[0;32m     22\u001b[0m     \u001b[0mdf\u001b[0m\u001b[1;33m[\u001b[0m\u001b[1;34m'text'\u001b[0m\u001b[1;33m]\u001b[0m \u001b[1;33m=\u001b[0m \u001b[0mdf\u001b[0m\u001b[1;33m[\u001b[0m\u001b[1;34m'text'\u001b[0m\u001b[1;33m]\u001b[0m\u001b[1;33m.\u001b[0m\u001b[0mstr\u001b[0m\u001b[1;33m.\u001b[0m\u001b[0mreplace\u001b[0m\u001b[1;33m(\u001b[0m\u001b[1;34m\"o/\"\u001b[0m\u001b[1;33m,\u001b[0m\u001b[1;34m\"\"\u001b[0m\u001b[1;33m,\u001b[0m\u001b[0mregex\u001b[0m\u001b[1;33m=\u001b[0m\u001b[1;32mTrue\u001b[0m\u001b[1;33m)\u001b[0m\u001b[1;33m\u001b[0m\u001b[1;33m\u001b[0m\u001b[0m\n",
      "\u001b[1;32m~\\anaconda3\\envs\\py37\\lib\\site-packages\\pandas\\core\\frame.py\u001b[0m in \u001b[0;36m__setitem__\u001b[1;34m(self, key, value)\u001b[0m\n\u001b[0;32m   3610\u001b[0m         \u001b[1;32melse\u001b[0m\u001b[1;33m:\u001b[0m\u001b[1;33m\u001b[0m\u001b[1;33m\u001b[0m\u001b[0m\n\u001b[0;32m   3611\u001b[0m             \u001b[1;31m# set column\u001b[0m\u001b[1;33m\u001b[0m\u001b[1;33m\u001b[0m\u001b[1;33m\u001b[0m\u001b[0m\n\u001b[1;32m-> 3612\u001b[1;33m             \u001b[0mself\u001b[0m\u001b[1;33m.\u001b[0m\u001b[0m_set_item\u001b[0m\u001b[1;33m(\u001b[0m\u001b[0mkey\u001b[0m\u001b[1;33m,\u001b[0m \u001b[0mvalue\u001b[0m\u001b[1;33m)\u001b[0m\u001b[1;33m\u001b[0m\u001b[1;33m\u001b[0m\u001b[0m\n\u001b[0m\u001b[0;32m   3613\u001b[0m \u001b[1;33m\u001b[0m\u001b[0m\n\u001b[0;32m   3614\u001b[0m     \u001b[1;32mdef\u001b[0m \u001b[0m_setitem_slice\u001b[0m\u001b[1;33m(\u001b[0m\u001b[0mself\u001b[0m\u001b[1;33m,\u001b[0m \u001b[0mkey\u001b[0m\u001b[1;33m:\u001b[0m \u001b[0mslice\u001b[0m\u001b[1;33m,\u001b[0m \u001b[0mvalue\u001b[0m\u001b[1;33m)\u001b[0m\u001b[1;33m:\u001b[0m\u001b[1;33m\u001b[0m\u001b[1;33m\u001b[0m\u001b[0m\n",
      "\u001b[1;32m~\\anaconda3\\envs\\py37\\lib\\site-packages\\pandas\\core\\frame.py\u001b[0m in \u001b[0;36m_set_item\u001b[1;34m(self, key, value)\u001b[0m\n\u001b[0;32m   3782\u001b[0m         \u001b[0mensure\u001b[0m \u001b[0mhomogeneity\u001b[0m\u001b[1;33m.\u001b[0m\u001b[1;33m\u001b[0m\u001b[1;33m\u001b[0m\u001b[0m\n\u001b[0;32m   3783\u001b[0m         \"\"\"\n\u001b[1;32m-> 3784\u001b[1;33m         \u001b[0mvalue\u001b[0m \u001b[1;33m=\u001b[0m \u001b[0mself\u001b[0m\u001b[1;33m.\u001b[0m\u001b[0m_sanitize_column\u001b[0m\u001b[1;33m(\u001b[0m\u001b[0mvalue\u001b[0m\u001b[1;33m)\u001b[0m\u001b[1;33m\u001b[0m\u001b[1;33m\u001b[0m\u001b[0m\n\u001b[0m\u001b[0;32m   3785\u001b[0m \u001b[1;33m\u001b[0m\u001b[0m\n\u001b[0;32m   3786\u001b[0m         if (\n",
      "\u001b[1;32m~\\anaconda3\\envs\\py37\\lib\\site-packages\\pandas\\core\\frame.py\u001b[0m in \u001b[0;36m_sanitize_column\u001b[1;34m(self, value)\u001b[0m\n\u001b[0;32m   4507\u001b[0m \u001b[1;33m\u001b[0m\u001b[0m\n\u001b[0;32m   4508\u001b[0m         \u001b[1;32mif\u001b[0m \u001b[0mis_list_like\u001b[0m\u001b[1;33m(\u001b[0m\u001b[0mvalue\u001b[0m\u001b[1;33m)\u001b[0m\u001b[1;33m:\u001b[0m\u001b[1;33m\u001b[0m\u001b[1;33m\u001b[0m\u001b[0m\n\u001b[1;32m-> 4509\u001b[1;33m             \u001b[0mcom\u001b[0m\u001b[1;33m.\u001b[0m\u001b[0mrequire_length_match\u001b[0m\u001b[1;33m(\u001b[0m\u001b[0mvalue\u001b[0m\u001b[1;33m,\u001b[0m \u001b[0mself\u001b[0m\u001b[1;33m.\u001b[0m\u001b[0mindex\u001b[0m\u001b[1;33m)\u001b[0m\u001b[1;33m\u001b[0m\u001b[1;33m\u001b[0m\u001b[0m\n\u001b[0m\u001b[0;32m   4510\u001b[0m         \u001b[1;32mreturn\u001b[0m \u001b[0msanitize_array\u001b[0m\u001b[1;33m(\u001b[0m\u001b[0mvalue\u001b[0m\u001b[1;33m,\u001b[0m \u001b[0mself\u001b[0m\u001b[1;33m.\u001b[0m\u001b[0mindex\u001b[0m\u001b[1;33m,\u001b[0m \u001b[0mcopy\u001b[0m\u001b[1;33m=\u001b[0m\u001b[1;32mTrue\u001b[0m\u001b[1;33m,\u001b[0m \u001b[0mallow_2d\u001b[0m\u001b[1;33m=\u001b[0m\u001b[1;32mTrue\u001b[0m\u001b[1;33m)\u001b[0m\u001b[1;33m\u001b[0m\u001b[1;33m\u001b[0m\u001b[0m\n\u001b[0;32m   4511\u001b[0m \u001b[1;33m\u001b[0m\u001b[0m\n",
      "\u001b[1;32m~\\anaconda3\\envs\\py37\\lib\\site-packages\\pandas\\core\\common.py\u001b[0m in \u001b[0;36mrequire_length_match\u001b[1;34m(data, index)\u001b[0m\n\u001b[0;32m    530\u001b[0m     \u001b[1;32mif\u001b[0m \u001b[0mlen\u001b[0m\u001b[1;33m(\u001b[0m\u001b[0mdata\u001b[0m\u001b[1;33m)\u001b[0m \u001b[1;33m!=\u001b[0m \u001b[0mlen\u001b[0m\u001b[1;33m(\u001b[0m\u001b[0mindex\u001b[0m\u001b[1;33m)\u001b[0m\u001b[1;33m:\u001b[0m\u001b[1;33m\u001b[0m\u001b[1;33m\u001b[0m\u001b[0m\n\u001b[0;32m    531\u001b[0m         raise ValueError(\n\u001b[1;32m--> 532\u001b[1;33m             \u001b[1;34m\"Length of values \"\u001b[0m\u001b[1;33m\u001b[0m\u001b[1;33m\u001b[0m\u001b[0m\n\u001b[0m\u001b[0;32m    533\u001b[0m             \u001b[1;34mf\"({len(data)}) \"\u001b[0m\u001b[1;33m\u001b[0m\u001b[1;33m\u001b[0m\u001b[0m\n\u001b[0;32m    534\u001b[0m             \u001b[1;34m\"does not match length of index \"\u001b[0m\u001b[1;33m\u001b[0m\u001b[1;33m\u001b[0m\u001b[0m\n",
      "\u001b[1;31mValueError\u001b[0m: Length of values (0) does not match length of index (1000)"
     ]
    }
   ],
   "source": [
    "path = '../Jaeyoon/face/voice/voic/KsponSpeech_01/'\n",
    "file_list = os.listdir(path)\n",
    "file_list\n",
    "\n",
    "\n",
    "for file_name in file_list:\n",
    "\n",
    "    data = pd.read_csv('../Jaeyoon/face/voice/voic/total_text/'+file_name+'.txt',header=None, sep = \"\\t\", engine='python', encoding = \"cp949\")\n",
    "    data.columns=[\"text\"]\n",
    "    df = pd.DataFrame(data,columns=['filename','text'])\n",
    "\n",
    "    txt_path = '../Jaeyoon/face/voice/voic/KsponSpeech_01/'+file_name+'/'\n",
    "    files = [f for f in glob.glob(txt_path + \"**/*.txt\", recursive=True)]\n",
    "    wavname = []\n",
    "    for file in files:\n",
    "        basename = os.path.basename(file[:-3])\n",
    "        basename = basename + 'wav'\n",
    "        wavname.append(basename)\n",
    "    order_speech = os.path.basename(txt_path[:-1])\n",
    "    df['filename'] = wavname\n",
    "    df['text'] = df['text'].str.replace(\"[+?!]\",\"\",regex=True)\n",
    "    df['text'] = df['text'].str.replace(\"o/\",\"\",regex=True)\n",
    "    df['text'] = df['text'].str.replace(\"u/\",\"<unk>\",regex=True)\n",
    "    df['text'] = df['text'].str.replace(\"[(].+[)]/\",\"\",regex=True)\n",
    "    df['text'] = df['text'].str.replace(\"[()]\",\"\",regex=True)\n",
    "# re_text = re.sub(r'([^)])/', '', text)\n",
    "# df.to_csv(order_speech + '.csv')"
   ]
  },
  {
   "cell_type": "code",
   "execution_count": null,
   "id": "9a55cccb",
   "metadata": {},
   "outputs": [],
   "source": [
    "df[85:90]"
   ]
  },
  {
   "cell_type": "code",
   "execution_count": null,
   "id": "25c29da6",
   "metadata": {},
   "outputs": [],
   "source": [
    "# df['text'] = df['text'].str.replace(\"[l/o/b/n/+?!]\",\"\",regex=True)"
   ]
  },
  {
   "cell_type": "code",
   "execution_count": null,
   "id": "fcf01179",
   "metadata": {},
   "outputs": [],
   "source": [
    "df.head()"
   ]
  },
  {
   "cell_type": "code",
   "execution_count": null,
   "id": "63483109",
   "metadata": {},
   "outputs": [],
   "source": [
    "df.to_csv('order_speech_ko.csv')"
   ]
  },
  {
   "cell_type": "code",
   "execution_count": null,
   "id": "df6ed14f",
   "metadata": {},
   "outputs": [],
   "source": [
    "path = '../Jaeyoon/face/voice/voic/KsponSpeech_01/'\n",
    "file_list = os.listdir(path)\n",
    "file_list"
   ]
  },
  {
   "cell_type": "code",
   "execution_count": 6,
   "id": "4d0903cd",
   "metadata": {},
   "outputs": [
    {
     "name": "stdout",
     "output_type": "stream",
     "text": [
      "[]\n",
      "[]\n",
      "[]\n",
      "[]\n",
      "[]\n",
      "[]\n",
      "[]\n",
      "[]\n",
      "[]\n",
      "[]\n",
      "[]\n",
      "[]\n",
      "[]\n",
      "[]\n",
      "[]\n",
      "[]\n",
      "[]\n",
      "[]\n",
      "[]\n",
      "[]\n",
      "[]\n",
      "[]\n",
      "[]\n",
      "[]\n",
      "[]\n",
      "[]\n",
      "[]\n",
      "[]\n",
      "[]\n",
      "[]\n",
      "[]\n",
      "[]\n",
      "[]\n",
      "[]\n",
      "[]\n",
      "[]\n",
      "[]\n",
      "[]\n",
      "[]\n",
      "[]\n",
      "[]\n",
      "[]\n",
      "[]\n",
      "[]\n",
      "[]\n",
      "[]\n",
      "[]\n",
      "[]\n",
      "[]\n"
     ]
    }
   ],
   "source": [
    "#완성코드\n",
    "import os\n",
    "import pn\n",
    "path = '../Jaeyoon/face/voice/voic/KsponSpeech_01/'\n",
    "file_list = os.listdir(path)\n",
    "file_list\n",
    "\n",
    "\n",
    "for filename in file_list:\n",
    "    data = pd.read_csv('../Jaeyoon/face/voice/voic/total_text/'+filename+'.txt',header=None, sep = \"\\t\", engine='python', encoding = \"cp949\")\n",
    "    data.columns=[\"text\"]\n",
    "    df = pd.DataFrame(data,columns=['filename','text'])\n",
    "\n",
    "    txt_path = '../Jaeyoon/face/voice/voic/KsponSpeech_01/'+filename+'/'\n",
    "    files = [f for f in glob.glob(txt_path + \"**/*.txt\", recursive=True)]\n",
    "    wavname = []\n",
    "    for file in files:\n",
    "        basename = os.path.basename(file[:-3])\n",
    "        basename = basename + 'wav'\n",
    "        wavname.append(basename)\n",
    "    order_speech = os.path.basename(txt_path[:-1])\n",
    "    df['filename'] = wavname\n",
    "    df['text'] = df['text'].str.replace(\"[+?!]\",\"\",regex=True)\n",
    "    df['text'] = df['text'].str.replace(\"o/\",\"\",regex=True)\n",
    "    df['text'] = df['text'].str.replace(\"u/\",\"<unk>\",regex=True)\n",
    "    df['text'] = df['text'].str.replace(r'\\([^\\)]*\\)\\/|\\(|\\)', '',regex=True)\n",
    "    # df['text'] = df['text'].str.replace(\"[(].+[)]/\",\"\",regex=True)\n",
    "    # df['text'] = df['text'].str.replace(\"[()]\",\"\",regex=True)\n",
    "\n",
    "#     df.head()\n",
    "#     re_text = re.sub(r'([^)])/', '', text)\n",
    "    df.to_csv(filename + '.csv')"
   ]
  },
  {
   "cell_type": "code",
   "execution_count": null,
   "id": "aa176b9c",
   "metadata": {},
   "outputs": [],
   "source": [
    "# path = '../Jaeyoon/face/voice/voic/KsponSpeech_01/KsponSpeech_0001/' #wave 파일만 있을때\n",
    "# filename = os.listdir(path)\n",
    "# df = pd.DataFrame(data,columns=['filename','text']) \n",
    "# df['filename'] = filename"
   ]
  },
  {
   "cell_type": "code",
   "execution_count": null,
   "id": "49b7c819",
   "metadata": {},
   "outputs": [],
   "source": [
    "# # 결과 파일명 지정\n",
    "# basename = os.path.basename(txt_path[:-1])\n",
    "# outfile_name = basename+\".txt\""
   ]
  }
 ],
 "metadata": {
  "kernelspec": {
   "display_name": "Python 3 (ipykernel)",
   "language": "python",
   "name": "python3"
  },
  "language_info": {
   "codemirror_mode": {
    "name": "ipython",
    "version": 3
   },
   "file_extension": ".py",
   "mimetype": "text/x-python",
   "name": "python",
   "nbconvert_exporter": "python",
   "pygments_lexer": "ipython3",
   "version": "3.7.13"
  }
 },
 "nbformat": 4,
 "nbformat_minor": 5
}
